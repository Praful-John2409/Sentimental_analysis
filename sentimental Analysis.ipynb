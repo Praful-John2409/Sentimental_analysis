{
 "cells": [
  {
   "cell_type": "raw",
   "id": "d4a37f95-fc84-4be2-b713-1d67abc1e10e",
   "metadata": {},
   "source": [
    "this is a text cell and in the next cell we will print hello world"
   ]
  },
  {
   "cell_type": "code",
   "execution_count": 1,
   "id": "25f9c308-2f93-4888-8d73-9899fd3f5f62",
   "metadata": {},
   "outputs": [
    {
     "name": "stdout",
     "output_type": "stream",
     "text": [
      "Hello World\n"
     ]
    }
   ],
   "source": [
    "print(\"Hello World\")"
   ]
  },
  {
   "cell_type": "code",
   "execution_count": null,
   "id": "599247ba-90b6-430f-954f-25a936d84b02",
   "metadata": {},
   "outputs": [],
   "source": []
  }
 ],
 "metadata": {
  "kernelspec": {
   "display_name": "Python 3 (ipykernel)",
   "language": "python",
   "name": "python3"
  },
  "language_info": {
   "codemirror_mode": {
    "name": "ipython",
    "version": 3
   },
   "file_extension": ".py",
   "mimetype": "text/x-python",
   "name": "python",
   "nbconvert_exporter": "python",
   "pygments_lexer": "ipython3",
   "version": "3.12.5"
  }
 },
 "nbformat": 4,
 "nbformat_minor": 5
}
